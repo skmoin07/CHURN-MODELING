{
 "cells": [
  {
   "cell_type": "code",
   "execution_count": 62,
   "metadata": {},
   "outputs": [],
   "source": [
    "import pandas as pd\n",
    "import matplotlib.pyplot as plt\n",
    "import seaborn as sns \n",
    "import warnings\n",
    "warnings.filterwarnings('ignore')\n"
   ]
  },
  {
   "cell_type": "code",
   "execution_count": 63,
   "metadata": {},
   "outputs": [
    {
     "data": {
      "text/html": [
       "<div>\n",
       "<style scoped>\n",
       "    .dataframe tbody tr th:only-of-type {\n",
       "        vertical-align: middle;\n",
       "    }\n",
       "\n",
       "    .dataframe tbody tr th {\n",
       "        vertical-align: top;\n",
       "    }\n",
       "\n",
       "    .dataframe thead th {\n",
       "        text-align: right;\n",
       "    }\n",
       "</style>\n",
       "<table border=\"1\" class=\"dataframe\">\n",
       "  <thead>\n",
       "    <tr style=\"text-align: right;\">\n",
       "      <th></th>\n",
       "      <th>RowNumber</th>\n",
       "      <th>CustomerId</th>\n",
       "      <th>Surname</th>\n",
       "      <th>CreditScore</th>\n",
       "      <th>Geography</th>\n",
       "      <th>Gender</th>\n",
       "      <th>Age</th>\n",
       "      <th>Tenure</th>\n",
       "      <th>Balance</th>\n",
       "      <th>NumOfProducts</th>\n",
       "      <th>HasCrCard</th>\n",
       "      <th>IsActiveMember</th>\n",
       "      <th>EstimatedSalary</th>\n",
       "      <th>Exited</th>\n",
       "    </tr>\n",
       "  </thead>\n",
       "  <tbody>\n",
       "    <tr>\n",
       "      <th>0</th>\n",
       "      <td>1</td>\n",
       "      <td>15634602</td>\n",
       "      <td>Hargrave</td>\n",
       "      <td>619</td>\n",
       "      <td>France</td>\n",
       "      <td>Female</td>\n",
       "      <td>42</td>\n",
       "      <td>2</td>\n",
       "      <td>0.00</td>\n",
       "      <td>1</td>\n",
       "      <td>1</td>\n",
       "      <td>1</td>\n",
       "      <td>101348.88</td>\n",
       "      <td>1</td>\n",
       "    </tr>\n",
       "    <tr>\n",
       "      <th>1</th>\n",
       "      <td>2</td>\n",
       "      <td>15647311</td>\n",
       "      <td>Hill</td>\n",
       "      <td>608</td>\n",
       "      <td>Spain</td>\n",
       "      <td>Female</td>\n",
       "      <td>41</td>\n",
       "      <td>1</td>\n",
       "      <td>83807.86</td>\n",
       "      <td>1</td>\n",
       "      <td>0</td>\n",
       "      <td>1</td>\n",
       "      <td>112542.58</td>\n",
       "      <td>0</td>\n",
       "    </tr>\n",
       "    <tr>\n",
       "      <th>2</th>\n",
       "      <td>3</td>\n",
       "      <td>15619304</td>\n",
       "      <td>Onio</td>\n",
       "      <td>502</td>\n",
       "      <td>France</td>\n",
       "      <td>Female</td>\n",
       "      <td>42</td>\n",
       "      <td>8</td>\n",
       "      <td>159660.80</td>\n",
       "      <td>3</td>\n",
       "      <td>1</td>\n",
       "      <td>0</td>\n",
       "      <td>113931.57</td>\n",
       "      <td>1</td>\n",
       "    </tr>\n",
       "    <tr>\n",
       "      <th>3</th>\n",
       "      <td>4</td>\n",
       "      <td>15701354</td>\n",
       "      <td>Boni</td>\n",
       "      <td>699</td>\n",
       "      <td>France</td>\n",
       "      <td>Female</td>\n",
       "      <td>39</td>\n",
       "      <td>1</td>\n",
       "      <td>0.00</td>\n",
       "      <td>2</td>\n",
       "      <td>0</td>\n",
       "      <td>0</td>\n",
       "      <td>93826.63</td>\n",
       "      <td>0</td>\n",
       "    </tr>\n",
       "    <tr>\n",
       "      <th>4</th>\n",
       "      <td>5</td>\n",
       "      <td>15737888</td>\n",
       "      <td>Mitchell</td>\n",
       "      <td>850</td>\n",
       "      <td>Spain</td>\n",
       "      <td>Female</td>\n",
       "      <td>43</td>\n",
       "      <td>2</td>\n",
       "      <td>125510.82</td>\n",
       "      <td>1</td>\n",
       "      <td>1</td>\n",
       "      <td>1</td>\n",
       "      <td>79084.10</td>\n",
       "      <td>0</td>\n",
       "    </tr>\n",
       "  </tbody>\n",
       "</table>\n",
       "</div>"
      ],
      "text/plain": [
       "   RowNumber  CustomerId   Surname  CreditScore Geography  Gender  Age  \\\n",
       "0          1    15634602  Hargrave          619    France  Female   42   \n",
       "1          2    15647311      Hill          608     Spain  Female   41   \n",
       "2          3    15619304      Onio          502    France  Female   42   \n",
       "3          4    15701354      Boni          699    France  Female   39   \n",
       "4          5    15737888  Mitchell          850     Spain  Female   43   \n",
       "\n",
       "   Tenure    Balance  NumOfProducts  HasCrCard  IsActiveMember  \\\n",
       "0       2       0.00              1          1               1   \n",
       "1       1   83807.86              1          0               1   \n",
       "2       8  159660.80              3          1               0   \n",
       "3       1       0.00              2          0               0   \n",
       "4       2  125510.82              1          1               1   \n",
       "\n",
       "   EstimatedSalary  Exited  \n",
       "0        101348.88       1  \n",
       "1        112542.58       0  \n",
       "2        113931.57       1  \n",
       "3         93826.63       0  \n",
       "4         79084.10       0  "
      ]
     },
     "execution_count": 63,
     "metadata": {},
     "output_type": "execute_result"
    }
   ],
   "source": [
    "data=pd.read_csv('C:/Recent Download/Churn_MOdelling.csv')\n",
    "data.head()"
   ]
  },
  {
   "cell_type": "code",
   "execution_count": 64,
   "metadata": {},
   "outputs": [
    {
     "data": {
      "text/plain": [
       "RowNumber          0\n",
       "CustomerId         0\n",
       "Surname            0\n",
       "CreditScore        0\n",
       "Geography          0\n",
       "Gender             0\n",
       "Age                0\n",
       "Tenure             0\n",
       "Balance            0\n",
       "NumOfProducts      0\n",
       "HasCrCard          0\n",
       "IsActiveMember     0\n",
       "EstimatedSalary    0\n",
       "Exited             0\n",
       "dtype: int64"
      ]
     },
     "execution_count": 64,
     "metadata": {},
     "output_type": "execute_result"
    }
   ],
   "source": [
    "#Missing Values\n",
    "data.isnull().sum()"
   ]
  },
  {
   "cell_type": "code",
   "execution_count": 65,
   "metadata": {},
   "outputs": [
    {
     "name": "stdout",
     "output_type": "stream",
     "text": [
      "<class 'pandas.core.frame.DataFrame'>\n",
      "RangeIndex: 10000 entries, 0 to 9999\n",
      "Data columns (total 14 columns):\n",
      " #   Column           Non-Null Count  Dtype  \n",
      "---  ------           --------------  -----  \n",
      " 0   RowNumber        10000 non-null  int64  \n",
      " 1   CustomerId       10000 non-null  int64  \n",
      " 2   Surname          10000 non-null  object \n",
      " 3   CreditScore      10000 non-null  int64  \n",
      " 4   Geography        10000 non-null  object \n",
      " 5   Gender           10000 non-null  object \n",
      " 6   Age              10000 non-null  int64  \n",
      " 7   Tenure           10000 non-null  int64  \n",
      " 8   Balance          10000 non-null  float64\n",
      " 9   NumOfProducts    10000 non-null  int64  \n",
      " 10  HasCrCard        10000 non-null  int64  \n",
      " 11  IsActiveMember   10000 non-null  int64  \n",
      " 12  EstimatedSalary  10000 non-null  float64\n",
      " 13  Exited           10000 non-null  int64  \n",
      "dtypes: float64(2), int64(9), object(3)\n",
      "memory usage: 1.1+ MB\n"
     ]
    }
   ],
   "source": [
    "data.info()"
   ]
  },
  {
   "cell_type": "code",
   "execution_count": 66,
   "metadata": {},
   "outputs": [
    {
     "data": {
      "text/plain": [
       "<AxesSubplot:>"
      ]
     },
     "execution_count": 66,
     "metadata": {},
     "output_type": "execute_result"
    },
    {
     "data": {
      "image/png": "[encoded data removed]",
      "text/plain": [
       "<Figure size 1080x576 with 2 Axes>"
      ]
     },
     "metadata": {
      "needs_background": "light"
     },
     "output_type": "display_data"
    }
   ],
   "source": [
    "corr=data.corr()\n",
    "plt.figure(figsize=(15,8))\n",
    "sns.heatmap(corr,cmap='Blues',annot=True)"
   ]
  },
  {
   "cell_type": "code",
   "execution_count": 67,
   "metadata": {},
   "outputs": [],
   "source": [
    "data.drop(['RowNumber','CustomerId','Surname'],axis=1,inplace=True)"
   ]
  },
  {
   "cell_type": "code",
   "execution_count": 68,
   "metadata": {},
   "outputs": [
    {
     "data": {
      "text/plain": [
       "<AxesSubplot:xlabel='Exited', ylabel='count'>"
      ]
     },
     "execution_count": 68,
     "metadata": {},
     "output_type": "execute_result"
    },
    {
     "data": {
      "image/png": "[encoded data removed]",
      "text/plain": [
       "<Figure size 432x288 with 1 Axes>"
      ]
     },
     "metadata": {
      "needs_background": "light"
     },
     "output_type": "display_data"
    }
   ],
   "source": [
    "sns.countplot(data['Exited'])"
   ]
  },
  {
   "cell_type": "code",
   "execution_count": 69,
   "metadata": {},
   "outputs": [],
   "source": [
    "data=pd.get_dummies(data,columns=(['Geography','Gender']))"
   ]
  },
  {
   "cell_type": "code",
   "execution_count": 70,
   "metadata": {},
   "outputs": [],
   "source": [
    "X=data.drop('Exited',axis=1)\n",
    "y=data['Exited']\n"
   ]
  },
  {
   "cell_type": "code",
   "execution_count": 71,
   "metadata": {},
   "outputs": [],
   "source": [
    "from sklearn.model_selection import train_test_split\n",
    "X_train, X_test, y_train, y_test = train_test_split(X, y, test_size=0.2, random_state=42)"
   ]
  },
  {
   "cell_type": "code",
   "execution_count": 72,
   "metadata": {},
   "outputs": [],
   "source": [
    "from sklearn.preprocessing import MinMaxScaler\n",
    "from sklearn.metrics import classification_report\n",
    "scaler=MinMaxScaler()\n",
    "X_train=scaler.fit_transform(X_train)\n",
    "X_test=scaler.transform(X_test)"
   ]
  },
  {
   "cell_type": "code",
   "execution_count": 73,
   "metadata": {},
   "outputs": [
    {
     "data": {
      "text/plain": [
       "(8000, 13)"
      ]
     },
     "execution_count": 73,
     "metadata": {},
     "output_type": "execute_result"
    }
   ],
   "source": [
    "X_train.shape"
   ]
  },
  {
   "cell_type": "code",
   "execution_count": 74,
   "metadata": {},
   "outputs": [],
   "source": [
    "from tensorflow.keras import Sequential\n",
    "from tensorflow.keras.layers import Dense,Dropout\n",
    "from tensorflow.keras.optimizers import Adam\n",
    "from keras.wrappers.scikit_learn import KerasClassifier\n",
    "from sklearn.model_selection import GridSearchCV\n",
    "from tensorflow.keras.callbacks import EarlyStopping\n",
    "import keras"
   ]
  },
  {
   "cell_type": "code",
   "execution_count": 99,
   "metadata": {},
   "outputs": [
    {
     "name": "stdout",
     "output_type": "stream",
     "text": [
      "Epoch 1/200\n",
      "400/400 [==============================] - 1s 2ms/step - loss: 0.5275 - accuracy: 0.7943\n",
      "Epoch 2/200\n",
      "400/400 [==============================] - 1s 1ms/step - loss: 0.4683 - accuracy: 0.7960\n",
      "Epoch 3/200\n",
      "400/400 [==============================] - 1s 1ms/step - loss: 0.4491 - accuracy: 0.8073\n",
      "Epoch 4/200\n",
      "400/400 [==============================] - 1s 1ms/step - loss: 0.4385 - accuracy: 0.8126\n",
      "Epoch 5/200\n",
      "400/400 [==============================] - 1s 1ms/step - loss: 0.4358 - accuracy: 0.8138\n",
      "Epoch 6/200\n",
      "400/400 [==============================] - 1s 2ms/step - loss: 0.4351 - accuracy: 0.8135\n",
      "Epoch 7/200\n",
      "400/400 [==============================] - 1s 1ms/step - loss: 0.4354 - accuracy: 0.8109\n",
      "Epoch 8/200\n",
      "400/400 [==============================] - 1s 2ms/step - loss: 0.4340 - accuracy: 0.8146\n",
      "Epoch 9/200\n",
      "400/400 [==============================] - 1s 2ms/step - loss: 0.4338 - accuracy: 0.8124\n",
      "Epoch 10/200\n",
      "400/400 [==============================] - 1s 2ms/step - loss: 0.4336 - accuracy: 0.8124\n",
      "Epoch 11/200\n",
      "400/400 [==============================] - 1s 2ms/step - loss: 0.4335 - accuracy: 0.8134\n",
      "Epoch 12/200\n",
      "400/400 [==============================] - 0s 1ms/step - loss: 0.4341 - accuracy: 0.8096\n",
      "Epoch 13/200\n",
      "400/400 [==============================] - 0s 1ms/step - loss: 0.4336 - accuracy: 0.8111\n",
      "Epoch 14/200\n",
      "400/400 [==============================] - 0s 1ms/step - loss: 0.4334 - accuracy: 0.8129\n",
      "Epoch 15/200\n",
      "400/400 [==============================] - 1s 1ms/step - loss: 0.4326 - accuracy: 0.8087\n",
      "Epoch 16/200\n",
      "400/400 [==============================] - 0s 1ms/step - loss: 0.4332 - accuracy: 0.8126\n",
      "Epoch 17/200\n",
      "400/400 [==============================] - 0s 1ms/step - loss: 0.4331 - accuracy: 0.8121\n",
      "Epoch 18/200\n",
      "400/400 [==============================] - 0s 1ms/step - loss: 0.4328 - accuracy: 0.8117\n",
      "Epoch 19/200\n",
      "400/400 [==============================] - 1s 1ms/step - loss: 0.4319 - accuracy: 0.8104\n",
      "Epoch 20/200\n",
      "400/400 [==============================] - 1s 2ms/step - loss: 0.4311 - accuracy: 0.8125\n",
      "Epoch 21/200\n",
      "400/400 [==============================] - 1s 1ms/step - loss: 0.4300 - accuracy: 0.8125\n",
      "Epoch 22/200\n",
      "400/400 [==============================] - 1s 2ms/step - loss: 0.4293 - accuracy: 0.8142\n",
      "Epoch 23/200\n",
      "400/400 [==============================] - 0s 1ms/step - loss: 0.4273 - accuracy: 0.8152\n",
      "Epoch 24/200\n",
      "400/400 [==============================] - 0s 1ms/step - loss: 0.4259 - accuracy: 0.8156\n",
      "Epoch 25/200\n",
      "400/400 [==============================] - 0s 1ms/step - loss: 0.4243 - accuracy: 0.8161\n",
      "Epoch 26/200\n",
      "400/400 [==============================] - 0s 1ms/step - loss: 0.4218 - accuracy: 0.8163: 0s - loss: 0.4184 - accuracy\n",
      "Epoch 27/200\n",
      "400/400 [==============================] - 1s 1ms/step - loss: 0.4199 - accuracy: 0.8232\n",
      "Epoch 28/200\n",
      "400/400 [==============================] - 1s 2ms/step - loss: 0.4174 - accuracy: 0.8248\n",
      "Epoch 29/200\n",
      "400/400 [==============================] - 0s 1ms/step - loss: 0.4162 - accuracy: 0.8256\n",
      "Epoch 30/200\n",
      "400/400 [==============================] - 1s 1ms/step - loss: 0.4137 - accuracy: 0.8266\n",
      "Epoch 31/200\n",
      "400/400 [==============================] - 0s 1ms/step - loss: 0.4131 - accuracy: 0.8313: 0s - loss: 0.4220 - ac\n",
      "Epoch 32/200\n",
      "400/400 [==============================] - 0s 1ms/step - loss: 0.4123 - accuracy: 0.8306\n",
      "Epoch 33/200\n",
      "400/400 [==============================] - 1s 1ms/step - loss: 0.4111 - accuracy: 0.8328\n",
      "Epoch 34/200\n",
      "400/400 [==============================] - 0s 1ms/step - loss: 0.4110 - accuracy: 0.8304\n",
      "Epoch 35/200\n",
      "400/400 [==============================] - 0s 1ms/step - loss: 0.4092 - accuracy: 0.8325\n",
      "Epoch 36/200\n",
      "400/400 [==============================] - 0s 1ms/step - loss: 0.4083 - accuracy: 0.8340\n",
      "Epoch 37/200\n",
      "400/400 [==============================] - 0s 1ms/step - loss: 0.4081 - accuracy: 0.8338\n",
      "Epoch 38/200\n",
      "400/400 [==============================] - 0s 1ms/step - loss: 0.4070 - accuracy: 0.8331\n",
      "Epoch 39/200\n",
      "400/400 [==============================] - 1s 1ms/step - loss: 0.4060 - accuracy: 0.8329\n",
      "Epoch 40/200\n",
      "400/400 [==============================] - 0s 1ms/step - loss: 0.4048 - accuracy: 0.8340\n",
      "Epoch 41/200\n",
      "400/400 [==============================] - 0s 1ms/step - loss: 0.4028 - accuracy: 0.8356\n",
      "Epoch 42/200\n",
      "400/400 [==============================] - 1s 1ms/step - loss: 0.4014 - accuracy: 0.8350: 0s - loss: 0.4055 - ac\n",
      "Epoch 43/200\n",
      "400/400 [==============================] - 1s 1ms/step - loss: 0.3999 - accuracy: 0.8382\n",
      "Epoch 44/200\n",
      "400/400 [==============================] - 0s 1ms/step - loss: 0.3981 - accuracy: 0.8381\n",
      "Epoch 45/200\n",
      "400/400 [==============================] - 0s 1ms/step - loss: 0.3952 - accuracy: 0.8380\n",
      "Epoch 46/200\n",
      "400/400 [==============================] - 0s 1ms/step - loss: 0.3924 - accuracy: 0.8407\n",
      "Epoch 47/200\n",
      "400/400 [==============================] - 0s 1ms/step - loss: 0.3898 - accuracy: 0.8401\n",
      "Epoch 48/200\n",
      "400/400 [==============================] - 0s 1ms/step - loss: 0.3861 - accuracy: 0.8414\n",
      "Epoch 49/200\n",
      "400/400 [==============================] - 0s 1ms/step - loss: 0.3816 - accuracy: 0.8401: 0s - loss: 0.3753 - accura\n",
      "Epoch 50/200\n",
      "400/400 [==============================] - 0s 1ms/step - loss: 0.3789 - accuracy: 0.8410\n",
      "Epoch 51/200\n",
      "400/400 [==============================] - 1s 1ms/step - loss: 0.3736 - accuracy: 0.8454\n",
      "Epoch 52/200\n",
      "400/400 [==============================] - 1s 2ms/step - loss: 0.3705 - accuracy: 0.8464\n",
      "Epoch 53/200\n",
      "400/400 [==============================] - 1s 2ms/step - loss: 0.3660 - accuracy: 0.8469\n",
      "Epoch 54/200\n",
      "400/400 [==============================] - 0s 1ms/step - loss: 0.3637 - accuracy: 0.8519\n",
      "Epoch 55/200\n",
      "400/400 [==============================] - 0s 1ms/step - loss: 0.3593 - accuracy: 0.8514\n",
      "Epoch 56/200\n",
      "400/400 [==============================] - 0s 1ms/step - loss: 0.3566 - accuracy: 0.8518\n",
      "Epoch 57/200\n",
      "400/400 [==============================] - 0s 1ms/step - loss: 0.3531 - accuracy: 0.8546\n",
      "Epoch 58/200\n",
      "400/400 [==============================] - 0s 1ms/step - loss: 0.3513 - accuracy: 0.8558\n",
      "Epoch 59/200\n",
      "400/400 [==============================] - 0s 1ms/step - loss: 0.3492 - accuracy: 0.8555\n",
      "Epoch 60/200\n",
      "400/400 [==============================] - 0s 1ms/step - loss: 0.3486 - accuracy: 0.8575\n",
      "Epoch 61/200\n",
      "400/400 [==============================] - 0s 1ms/step - loss: 0.3455 - accuracy: 0.8586\n",
      "Epoch 62/200\n",
      "400/400 [==============================] - 1s 1ms/step - loss: 0.3438 - accuracy: 0.8583\n",
      "Epoch 63/200\n",
      "400/400 [==============================] - 0s 1ms/step - loss: 0.3432 - accuracy: 0.8587\n",
      "Epoch 64/200\n",
      "400/400 [==============================] - 1s 1ms/step - loss: 0.3425 - accuracy: 0.8608\n",
      "Epoch 65/200\n",
      "400/400 [==============================] - 1s 2ms/step - loss: 0.3410 - accuracy: 0.8606\n",
      "Epoch 66/200\n",
      "400/400 [==============================] - 0s 1ms/step - loss: 0.3418 - accuracy: 0.8610\n",
      "Epoch 67/200\n",
      "400/400 [==============================] - 1s 1ms/step - loss: 0.3414 - accuracy: 0.8597\n",
      "Epoch 68/200\n",
      "400/400 [==============================] - 1s 1ms/step - loss: 0.3399 - accuracy: 0.8605\n",
      "Epoch 69/200\n",
      "400/400 [==============================] - 0s 1ms/step - loss: 0.3404 - accuracy: 0.8604\n",
      "Epoch 70/200\n",
      "400/400 [==============================] - 0s 1ms/step - loss: 0.3396 - accuracy: 0.8600\n",
      "Epoch 71/200\n",
      "400/400 [==============================] - 0s 1ms/step - loss: 0.3384 - accuracy: 0.8611\n",
      "Epoch 72/200\n",
      "400/400 [==============================] - 0s 1ms/step - loss: 0.3396 - accuracy: 0.8597\n",
      "Epoch 73/200\n",
      "400/400 [==============================] - 0s 1ms/step - loss: 0.3388 - accuracy: 0.8599\n",
      "Epoch 74/200\n",
      "400/400 [==============================] - 1s 1ms/step - loss: 0.3393 - accuracy: 0.8614: 0s - loss: 0.3314 - accura\n",
      "Epoch 75/200\n",
      "400/400 [==============================] - 1s 1ms/step - loss: 0.3401 - accuracy: 0.8619: 0s - loss: 0.3338 - accuracy\n",
      "Epoch 76/200\n",
      "400/400 [==============================] - 1s 1ms/step - loss: 0.3391 - accuracy: 0.8624\n",
      "Epoch 77/200\n",
      "400/400 [==============================] - 1s 2ms/step - loss: 0.3387 - accuracy: 0.8609\n",
      "Epoch 78/200\n",
      "400/400 [==============================] - 1s 1ms/step - loss: 0.3382 - accuracy: 0.8616\n",
      "Epoch 79/200\n",
      "400/400 [==============================] - 1s 1ms/step - loss: 0.3385 - accuracy: 0.8608\n",
      "Epoch 80/200\n",
      "400/400 [==============================] - 1s 2ms/step - loss: 0.3386 - accuracy: 0.8616\n",
      "Epoch 81/200\n",
      "400/400 [==============================] - 0s 1ms/step - loss: 0.3373 - accuracy: 0.8629\n",
      "Epoch 82/200\n",
      "400/400 [==============================] - 1s 2ms/step - loss: 0.3377 - accuracy: 0.8614\n",
      "Epoch 83/200\n",
      "400/400 [==============================] - 1s 2ms/step - loss: 0.3380 - accuracy: 0.8619: 0s - loss: 0.3\n",
      "Epoch 84/200\n",
      "400/400 [==============================] - 0s 1ms/step - loss: 0.3384 - accuracy: 0.8614\n",
      "Epoch 85/200\n",
      "400/400 [==============================] - 0s 1ms/step - loss: 0.3360 - accuracy: 0.8629\n",
      "Epoch 86/200\n",
      "400/400 [==============================] - 1s 1ms/step - loss: 0.3375 - accuracy: 0.8619\n",
      "Epoch 87/200\n",
      "400/400 [==============================] - 1s 1ms/step - loss: 0.3366 - accuracy: 0.8616\n",
      "Epoch 88/200\n",
      "400/400 [==============================] - 1s 1ms/step - loss: 0.3366 - accuracy: 0.8609\n",
      "Epoch 89/200\n",
      "400/400 [==============================] - 0s 1ms/step - loss: 0.3375 - accuracy: 0.8612\n",
      "Epoch 90/200\n",
      "400/400 [==============================] - 0s 1ms/step - loss: 0.3363 - accuracy: 0.8605: 0s - loss: 0.3374 - accuracy: 0.85\n",
      "Epoch 91/200\n",
      "400/400 [==============================] - 1s 2ms/step - loss: 0.3353 - accuracy: 0.8619\n",
      "Epoch 92/200\n",
      "400/400 [==============================] - 1s 3ms/step - loss: 0.3363 - accuracy: 0.8640: 0s - loss: 0.4008 - accuracy: 0.83 - E\n",
      "Epoch 93/200\n",
      "400/400 [==============================] - 1s 2ms/step - loss: 0.3352 - accuracy: 0.8639\n",
      "Epoch 94/200\n",
      "400/400 [==============================] - 1s 2ms/step - loss: 0.3355 - accuracy: 0.8614\n",
      "Epoch 95/200\n",
      "400/400 [==============================] - 1s 3ms/step - loss: 0.3363 - accuracy: 0.8609: 0s - los\n",
      "Epoch 96/200\n",
      "400/400 [==============================] - 1s 2ms/step - loss: 0.3353 - accuracy: 0.8615\n",
      "Epoch 97/200\n",
      "400/400 [==============================] - 1s 2ms/step - loss: 0.3353 - accuracy: 0.8622: 0s - loss: 0.3342 - accuracy: \n",
      "Epoch 98/200\n",
      "400/400 [==============================] - 0s 1ms/step - loss: 0.3349 - accuracy: 0.8621\n",
      "Epoch 99/200\n",
      "400/400 [==============================] - 0s 1ms/step - loss: 0.3352 - accuracy: 0.8622\n",
      "Epoch 100/200\n",
      "400/400 [==============================] - 0s 1ms/step - loss: 0.3357 - accuracy: 0.8612\n",
      "Epoch 101/200\n",
      "400/400 [==============================] - 0s 1ms/step - loss: 0.3345 - accuracy: 0.8619\n",
      "Epoch 102/200\n",
      "400/400 [==============================] - 0s 1ms/step - loss: 0.3357 - accuracy: 0.8626\n",
      "Epoch 103/200\n",
      "400/400 [==============================] - 0s 1ms/step - loss: 0.3349 - accuracy: 0.8634\n",
      "Epoch 104/200\n",
      "400/400 [==============================] - 0s 1ms/step - loss: 0.3349 - accuracy: 0.8629\n",
      "Epoch 105/200\n",
      "400/400 [==============================] - 0s 1ms/step - loss: 0.3351 - accuracy: 0.8625: 0s - loss: 0.3394 - accura\n",
      "Epoch 106/200\n",
      "400/400 [==============================] - 1s 1ms/step - loss: 0.3343 - accuracy: 0.8629\n",
      "Epoch 107/200\n",
      "400/400 [==============================] - 1s 2ms/step - loss: 0.3336 - accuracy: 0.8634\n",
      "Epoch 108/200\n",
      "400/400 [==============================] - 1s 3ms/step - loss: 0.3343 - accuracy: 0.8629\n",
      "Epoch 109/200\n",
      "400/400 [==============================] - 1s 1ms/step - loss: 0.3344 - accuracy: 0.8616\n",
      "Epoch 110/200\n",
      "400/400 [==============================] - 0s 1ms/step - loss: 0.3349 - accuracy: 0.8601\n",
      "Epoch 111/200\n",
      "400/400 [==============================] - 0s 1ms/step - loss: 0.3340 - accuracy: 0.8616\n",
      "Epoch 112/200\n",
      "400/400 [==============================] - 0s 1ms/step - loss: 0.3337 - accuracy: 0.8652\n",
      "Epoch 113/200\n",
      "400/400 [==============================] - 0s 1ms/step - loss: 0.3334 - accuracy: 0.8631\n",
      "Epoch 114/200\n",
      "400/400 [==============================] - 0s 1ms/step - loss: 0.3347 - accuracy: 0.8627\n",
      "Epoch 115/200\n",
      "400/400 [==============================] - 0s 1ms/step - loss: 0.3355 - accuracy: 0.8616\n",
      "Epoch 116/200\n",
      "400/400 [==============================] - 0s 1ms/step - loss: 0.3330 - accuracy: 0.8619\n",
      "Epoch 117/200\n",
      "400/400 [==============================] - 0s 1ms/step - loss: 0.3328 - accuracy: 0.8630\n",
      "Epoch 118/200\n",
      "400/400 [==============================] - 0s 1ms/step - loss: 0.3335 - accuracy: 0.8627\n",
      "Epoch 119/200\n",
      "400/400 [==============================] - 0s 1ms/step - loss: 0.3335 - accuracy: 0.8611\n",
      "Epoch 120/200\n",
      "400/400 [==============================] - 0s 1ms/step - loss: 0.3335 - accuracy: 0.8631\n",
      "Epoch 121/200\n",
      "400/400 [==============================] - 0s 1ms/step - loss: 0.3343 - accuracy: 0.8630\n",
      "Epoch 122/200\n",
      "400/400 [==============================] - 0s 1ms/step - loss: 0.3329 - accuracy: 0.8650\n",
      "Epoch 123/200\n",
      "400/400 [==============================] - 0s 1ms/step - loss: 0.3331 - accuracy: 0.8616\n",
      "Epoch 124/200\n",
      "400/400 [==============================] - 0s 1ms/step - loss: 0.3329 - accuracy: 0.8630\n",
      "Epoch 125/200\n",
      "400/400 [==============================] - 0s 1ms/step - loss: 0.3329 - accuracy: 0.8634\n",
      "Epoch 126/200\n",
      "400/400 [==============================] - 0s 1ms/step - loss: 0.3334 - accuracy: 0.8631\n",
      "Epoch 127/200\n",
      "400/400 [==============================] - 0s 1ms/step - loss: 0.3326 - accuracy: 0.8618\n",
      "Epoch 128/200\n",
      "400/400 [==============================] - 0s 1ms/step - loss: 0.3332 - accuracy: 0.8614\n",
      "Epoch 129/200\n",
      "400/400 [==============================] - 1s 1ms/step - loss: 0.3327 - accuracy: 0.8633: 0s - loss: 0.3\n",
      "Epoch 130/200\n",
      "400/400 [==============================] - 0s 1ms/step - loss: 0.3329 - accuracy: 0.8627\n",
      "Epoch 131/200\n",
      "400/400 [==============================] - 0s 1ms/step - loss: 0.3327 - accuracy: 0.8616\n",
      "Epoch 132/200\n",
      "400/400 [==============================] - 0s 1ms/step - loss: 0.3322 - accuracy: 0.8635\n",
      "Epoch 133/200\n",
      "400/400 [==============================] - 1s 2ms/step - loss: 0.3327 - accuracy: 0.8641: 0s - loss: 0.3323 - accuracy: \n",
      "Epoch 134/200\n",
      "400/400 [==============================] - 1s 2ms/step - loss: 0.3326 - accuracy: 0.8639\n",
      "Epoch 135/200\n",
      "400/400 [==============================] - 0s 1ms/step - loss: 0.3331 - accuracy: 0.8634\n",
      "Epoch 136/200\n",
      "400/400 [==============================] - 0s 1ms/step - loss: 0.3328 - accuracy: 0.8618\n",
      "Epoch 137/200\n",
      "400/400 [==============================] - 0s 1ms/step - loss: 0.3330 - accuracy: 0.8644\n",
      "Epoch 138/200\n",
      "400/400 [==============================] - 1s 1ms/step - loss: 0.3320 - accuracy: 0.8646\n",
      "Epoch 139/200\n",
      "400/400 [==============================] - 1s 2ms/step - loss: 0.3321 - accuracy: 0.8644\n",
      "Epoch 140/200\n",
      "400/400 [==============================] - 1s 2ms/step - loss: 0.3317 - accuracy: 0.8631\n",
      "Epoch 141/200\n",
      "400/400 [==============================] - 0s 1ms/step - loss: 0.3322 - accuracy: 0.8631\n",
      "Epoch 142/200\n",
      "400/400 [==============================] - 0s 1ms/step - loss: 0.3323 - accuracy: 0.8636\n",
      "Epoch 143/200\n",
      "400/400 [==============================] - 0s 1ms/step - loss: 0.3320 - accuracy: 0.8604\n",
      "Epoch 144/200\n",
      "400/400 [==============================] - 1s 1ms/step - loss: 0.3322 - accuracy: 0.8650\n",
      "Epoch 145/200\n",
      "400/400 [==============================] - 0s 1ms/step - loss: 0.3327 - accuracy: 0.8631\n",
      "Epoch 146/200\n",
      "400/400 [==============================] - 0s 1ms/step - loss: 0.3316 - accuracy: 0.8636\n",
      "Epoch 147/200\n",
      "400/400 [==============================] - 0s 1ms/step - loss: 0.3313 - accuracy: 0.8633\n",
      "Epoch 148/200\n",
      "400/400 [==============================] - 0s 1ms/step - loss: 0.3330 - accuracy: 0.8633\n",
      "Epoch 149/200\n",
      "400/400 [==============================] - 0s 1ms/step - loss: 0.3311 - accuracy: 0.8651\n",
      "Epoch 150/200\n",
      "400/400 [==============================] - 0s 1ms/step - loss: 0.3315 - accuracy: 0.8659\n",
      "Epoch 151/200\n",
      "400/400 [==============================] - 0s 1ms/step - loss: 0.3308 - accuracy: 0.8635\n",
      "Epoch 152/200\n",
      "400/400 [==============================] - 0s 1ms/step - loss: 0.3319 - accuracy: 0.8640\n",
      "Epoch 153/200\n",
      "400/400 [==============================] - 1s 1ms/step - loss: 0.3318 - accuracy: 0.8614\n",
      "Epoch 154/200\n",
      "400/400 [==============================] - 0s 1ms/step - loss: 0.3311 - accuracy: 0.8625\n",
      "Epoch 155/200\n",
      "400/400 [==============================] - 0s 1ms/step - loss: 0.3309 - accuracy: 0.8646\n",
      "Epoch 156/200\n",
      "400/400 [==============================] - 0s 1ms/step - loss: 0.3316 - accuracy: 0.8622\n",
      "Epoch 157/200\n",
      "400/400 [==============================] - 1s 1ms/step - loss: 0.3318 - accuracy: 0.8633\n",
      "Epoch 158/200\n",
      "400/400 [==============================] - 0s 1ms/step - loss: 0.3312 - accuracy: 0.8631\n",
      "Epoch 159/200\n",
      "400/400 [==============================] - 0s 1ms/step - loss: 0.3303 - accuracy: 0.8645\n",
      "Epoch 160/200\n",
      "400/400 [==============================] - 0s 1ms/step - loss: 0.3321 - accuracy: 0.8622\n",
      "Epoch 161/200\n",
      "400/400 [==============================] - 0s 1ms/step - loss: 0.3309 - accuracy: 0.8656\n",
      "Epoch 162/200\n",
      "400/400 [==============================] - 0s 1ms/step - loss: 0.3311 - accuracy: 0.8633\n",
      "Epoch 163/200\n",
      "400/400 [==============================] - 0s 1ms/step - loss: 0.3306 - accuracy: 0.8624\n",
      "Epoch 164/200\n",
      "400/400 [==============================] - 0s 1ms/step - loss: 0.3303 - accuracy: 0.8646\n",
      "Epoch 165/200\n",
      "400/400 [==============================] - 0s 1ms/step - loss: 0.3306 - accuracy: 0.8616\n",
      "Epoch 166/200\n",
      "400/400 [==============================] - 0s 1ms/step - loss: 0.3305 - accuracy: 0.8634\n",
      "Epoch 167/200\n",
      "400/400 [==============================] - 0s 1ms/step - loss: 0.3310 - accuracy: 0.8629\n",
      "Epoch 168/200\n",
      "400/400 [==============================] - 0s 1ms/step - loss: 0.3301 - accuracy: 0.8641\n",
      "Epoch 169/200\n",
      "400/400 [==============================] - 0s 1ms/step - loss: 0.3308 - accuracy: 0.8637\n",
      "Epoch 170/200\n",
      "400/400 [==============================] - 0s 1ms/step - loss: 0.3301 - accuracy: 0.8660\n",
      "Epoch 171/200\n",
      "400/400 [==============================] - 0s 1ms/step - loss: 0.3306 - accuracy: 0.8655\n",
      "Epoch 172/200\n",
      "400/400 [==============================] - 0s 1ms/step - loss: 0.3310 - accuracy: 0.8634\n",
      "Epoch 173/200\n",
      "400/400 [==============================] - 1s 1ms/step - loss: 0.3298 - accuracy: 0.8659\n",
      "Epoch 174/200\n",
      "400/400 [==============================] - 1s 2ms/step - loss: 0.3302 - accuracy: 0.8634\n",
      "Epoch 175/200\n",
      "400/400 [==============================] - 1s 2ms/step - loss: 0.3311 - accuracy: 0.8637\n",
      "Epoch 176/200\n",
      "400/400 [==============================] - 0s 1ms/step - loss: 0.3295 - accuracy: 0.8643\n",
      "Epoch 177/200\n",
      "400/400 [==============================] - 0s 1ms/step - loss: 0.3302 - accuracy: 0.8662\n",
      "Epoch 178/200\n",
      "400/400 [==============================] - 0s 1ms/step - loss: 0.3298 - accuracy: 0.8635\n",
      "Epoch 179/200\n",
      "400/400 [==============================] - 1s 1ms/step - loss: 0.3302 - accuracy: 0.8649\n",
      "Epoch 180/200\n",
      "400/400 [==============================] - 0s 1ms/step - loss: 0.3300 - accuracy: 0.8626\n",
      "Epoch 181/200\n",
      "400/400 [==============================] - 0s 1ms/step - loss: 0.3297 - accuracy: 0.8646\n",
      "Epoch 182/200\n",
      "400/400 [==============================] - 0s 1ms/step - loss: 0.3305 - accuracy: 0.8641\n",
      "Epoch 183/200\n",
      "400/400 [==============================] - 0s 1ms/step - loss: 0.3289 - accuracy: 0.8639\n",
      "Epoch 184/200\n",
      "400/400 [==============================] - 0s 1ms/step - loss: 0.3293 - accuracy: 0.8634\n",
      "Epoch 185/200\n",
      "400/400 [==============================] - 0s 1ms/step - loss: 0.3297 - accuracy: 0.8650\n",
      "Epoch 186/200\n",
      "400/400 [==============================] - 0s 1000us/step - loss: 0.3295 - accuracy: 0.8629\n",
      "Epoch 187/200\n",
      "400/400 [==============================] - 0s 1ms/step - loss: 0.3301 - accuracy: 0.8643\n",
      "Epoch 188/200\n",
      "400/400 [==============================] - 0s 1ms/step - loss: 0.3290 - accuracy: 0.8635\n",
      "Epoch 189/200\n",
      "400/400 [==============================] - 0s 1ms/step - loss: 0.3296 - accuracy: 0.8646\n",
      "Epoch 190/200\n",
      "400/400 [==============================] - 0s 1ms/step - loss: 0.3296 - accuracy: 0.8644\n",
      "Epoch 191/200\n",
      "400/400 [==============================] - 0s 1ms/step - loss: 0.3297 - accuracy: 0.8644\n",
      "Epoch 192/200\n",
      "400/400 [==============================] - 0s 1ms/step - loss: 0.3287 - accuracy: 0.8650\n",
      "Epoch 193/200\n",
      "400/400 [==============================] - 0s 1ms/step - loss: 0.3307 - accuracy: 0.8635\n",
      "Epoch 194/200\n",
      "400/400 [==============================] - 0s 1ms/step - loss: 0.3299 - accuracy: 0.8635\n",
      "Epoch 195/200\n",
      "400/400 [==============================] - 0s 1ms/step - loss: 0.3297 - accuracy: 0.8627\n",
      "Epoch 196/200\n",
      "400/400 [==============================] - 0s 1ms/step - loss: 0.3287 - accuracy: 0.8641\n",
      "Epoch 197/200\n",
      "400/400 [==============================] - 0s 1ms/step - loss: 0.3294 - accuracy: 0.8644\n",
      "Epoch 198/200\n",
      "400/400 [==============================] - 0s 1ms/step - loss: 0.3286 - accuracy: 0.8660\n",
      "Epoch 199/200\n",
      "400/400 [==============================] - 0s 1ms/step - loss: 0.3286 - accuracy: 0.8649\n",
      "Epoch 200/200\n",
      "400/400 [==============================] - 0s 1ms/step - loss: 0.3290 - accuracy: 0.8652\n"
     ]
    },
    {
     "data": {
      "image/png": "[encoded data removed]",
      "text/plain": [
       "<Figure size 720x360 with 2 Axes>"
      ]
     },
     "metadata": {
      "needs_background": "light"
     },
     "output_type": "display_data"
    }
   ],
   "source": [
    "# create model\n",
    "\n",
    "# create model\n",
    "model = Sequential()\n",
    "model.add(Dense(13, input_dim=13, kernel_initializer='uniform', activation='tanh'))\n",
    "model.add(Dense(8, kernel_initializer='uniform', activation='tanh'))\n",
    "model.add(Dense(1, kernel_initializer='uniform', activation='sigmoid'))\n",
    "model.compile(optimizer='adam',\n",
    "              loss='binary_crossentropy',\n",
    "              metrics=['accuracy'])\n",
    "\n",
    "history=model.fit(X_train,y_train,epochs=200,batch_size=20)              \n",
    "show_history(history)\n",
    "plot_history(history, path=\"standard.png\")\n",
    "plt.close()\n"
   ]
  },
  {
   "cell_type": "code",
   "execution_count": 101,
   "metadata": {},
   "outputs": [
    {
     "name": "stdout",
     "output_type": "stream",
     "text": [
      "63/63 [==============================] - 0s 996us/step - loss: 0.3336 - accuracy: 0.8585\n",
      "accuracy: 85.85%\n"
     ]
    }
   ],
   "source": [
    "scores=model.evaluate(X_test,y_test)\n",
    "print(\"%s: %.2f%%\" % (model.metrics_names[1], scores[1]*100))\n"
   ]
  },
  {
   "cell_type": "code",
   "execution_count": 102,
   "metadata": {},
   "outputs": [
    {
     "data": {
      "text/plain": [
       "array([[0.07365435],\n",
       "       [0.03108236],\n",
       "       [0.14641139],\n",
       "       [0.13121822],\n",
       "       [0.06415513]], dtype=float32)"
      ]
     },
     "execution_count": 102,
     "metadata": {},
     "output_type": "execute_result"
    }
   ],
   "source": [
    "yp=model.predict(X_test)\n",
    "yp[:5]"
   ]
  },
  {
   "cell_type": "code",
   "execution_count": 103,
   "metadata": {},
   "outputs": [
    {
     "data": {
      "text/plain": [
       "6252    0\n",
       "4684    0\n",
       "1731    0\n",
       "4742    0\n",
       "4521    0\n",
       "Name: Exited, dtype: int64"
      ]
     },
     "execution_count": 103,
     "metadata": {},
     "output_type": "execute_result"
    }
   ],
   "source": [
    "y_test[:5]"
   ]
  },
  {
   "cell_type": "code",
   "execution_count": 104,
   "metadata": {},
   "outputs": [],
   "source": [
    "y_pred=[]\n",
    "for element in yp:\n",
    "    if element > 0.5:\n",
    "        y_pred.append(1)\n",
    "    else:\n",
    "        y_pred.append(0)\n",
    "            "
   ]
  },
  {
   "cell_type": "code",
   "execution_count": 105,
   "metadata": {},
   "outputs": [
    {
     "data": {
      "text/plain": [
       "[0, 0, 0, 0, 0, 0, 0, 0, 0, 0]"
      ]
     },
     "execution_count": 105,
     "metadata": {},
     "output_type": "execute_result"
    }
   ],
   "source": [
    "y_pred[:10]"
   ]
  },
  {
   "cell_type": "code",
   "execution_count": 106,
   "metadata": {},
   "outputs": [
    {
     "name": "stdout",
     "output_type": "stream",
     "text": [
      "              precision    recall  f1-score   support\n",
      "\n",
      "           0       0.88      0.96      0.92      1607\n",
      "           1       0.73      0.45      0.56       393\n",
      "\n",
      "    accuracy                           0.86      2000\n",
      "   macro avg       0.80      0.70      0.74      2000\n",
      "weighted avg       0.85      0.86      0.85      2000\n",
      "\n"
     ]
    }
   ],
   "source": [
    "print(classification_report(y_test,y_pred))"
   ]
  },
  {
   "cell_type": "code",
   "execution_count": 107,
   "metadata": {},
   "outputs": [
    {
     "name": "stdout",
     "output_type": "stream",
     "text": [
      "[[1540   67]\n",
      " [ 216  177]]\n"
     ]
    },
    {
     "data": {
      "text/plain": [
       "0.8585"
      ]
     },
     "execution_count": 107,
     "metadata": {},
     "output_type": "execute_result"
    }
   ],
   "source": [
    "from sklearn.metrics import confusion_matrix, accuracy_score\n",
    "cm = confusion_matrix(y_test, y_pred)\n",
    "print(cm)\n",
    "accuracy_score(y_test, y_pred)"
   ]
  },
  {
   "cell_type": "code",
   "execution_count": 108,
   "metadata": {},
   "outputs": [],
   "source": [
    "from plot_keras_history import show_history, plot_history\n"
   ]
  }
 ],
 "metadata": {
  "kernelspec": {
   "display_name": "Python 3 (ipykernel)",
   "language": "python",
   "name": "python3"
  },
  "language_info": {
   "codemirror_mode": {
    "name": "ipython",
    "version": 3
   },
   "file_extension": ".py",
   "mimetype": "text/x-python",
   "name": "python",
   "nbconvert_exporter": "python",
   "pygments_lexer": "ipython3",
   "version": "3.9.7"
  }
 },
 "nbformat": 4,
 "nbformat_minor": 2
}
